{
 "cells": [
  {
   "cell_type": "code",
   "execution_count": 10,
   "id": "657df18e",
   "metadata": {},
   "outputs": [],
   "source": [
    "from ultralytics import YOLO"
   ]
  },
  {
   "cell_type": "code",
   "execution_count": 11,
   "id": "622340a7",
   "metadata": {},
   "outputs": [],
   "source": [
    "model = YOLO(rf'C:\\Users\\Welcome\\phases_detection\\fine_tuning\\runs\\detect\\train5\\weights\\best.pt')"
   ]
  },
  {
   "cell_type": "code",
   "execution_count": 12,
   "id": "705e8853",
   "metadata": {},
   "outputs": [
    {
     "name": "stdout",
     "output_type": "stream",
     "text": [
      "Ultralytics 8.3.100  Python-3.11.0 torch-2.1.0+cu118 CUDA:0 (NVIDIA GeForce RTX 3090, 24576MiB)\n",
      "Model summary (fused): 112 layers, 68,124,531 parameters, 0 gradients, 257.4 GFLOPs\n"
     ]
    },
    {
     "name": "stderr",
     "output_type": "stream",
     "text": [
      "\u001b[34m\u001b[1mval: \u001b[0mScanning C:\\Users\\Welcome\\phases_detection\\fine_tuning\\labels\\test.cache... 939 images, 4 backgrounds, 0 corrupt: 100%|██████████| 939/939 [00:00<?, ?it/s]\n",
      "                 Class     Images  Instances      Box(P          R      mAP50  mAP50-95): 100%|██████████| 59/59 [00:18<00:00,  3.15it/s]\n"
     ]
    },
    {
     "name": "stdout",
     "output_type": "stream",
     "text": [
      "                   all        939        935      0.937      0.607      0.781      0.537\n",
      "Speed: 0.2ms preprocess, 15.9ms inference, 0.0ms loss, 0.7ms postprocess per image\n",
      "Results saved to \u001b[1mruns\\detect\\val6\u001b[0m\n"
     ]
    }
   ],
   "source": [
    "test = model.val(data=\"C:/Users/Welcome/phases_detection/fine_tuning/data.yaml\",split=\"test\",conf=0.80)"
   ]
  },
  {
   "cell_type": "code",
   "execution_count": 13,
   "id": "ccae9749",
   "metadata": {},
   "outputs": [
    {
     "name": "stdout",
     "output_type": "stream",
     "text": [
      "Precision: 0.9373\n",
      "Recall: 0.6075\n",
      "mAP@0.5: 0.7813\n",
      "mAP@0.5:0.95: 0.5370\n"
     ]
    }
   ],
   "source": [
    "metrics = test.results_dict\n",
    "\n",
    "precision = metrics['metrics/precision(B)']\n",
    "recall = metrics['metrics/recall(B)']\n",
    "map50 = metrics['metrics/mAP50(B)']\n",
    "map50_95 = metrics['metrics/mAP50-95(B)']\n",
    "print(f\"Precision: {precision:.4f}\")\n",
    "print(f\"Recall: {recall:.4f}\")\n",
    "print(f\"mAP@0.5: {map50:.4f}\")\n",
    "print(f\"mAP@0.5:0.95: {map50_95:.4f}\")"
   ]
  },
  {
   "cell_type": "code",
   "execution_count": 46,
   "id": "d4be2fc2",
   "metadata": {},
   "outputs": [],
   "source": [
    "test.confusion_matrix.plot(save_dir=test.save_dir)"
   ]
  },
  {
   "cell_type": "code",
   "execution_count": null,
   "id": "2017c490",
   "metadata": {},
   "outputs": [],
   "source": [
    "import matplotlib.pyplot as plt\n",
    "test.confusion_matrix.plot()\n",
    "plt.show()"
   ]
  },
  {
   "cell_type": "code",
   "execution_count": null,
   "id": "8455c5c5",
   "metadata": {},
   "outputs": [
    {
     "name": "stdout",
     "output_type": "stream",
     "text": [
      "[[         98          71]\n",
      " [         76           0]]\n"
     ]
    }
   ],
   "source": [
    "matrix = test.confusion_matrix.matrix\n",
    "print(matrix)"
   ]
  },
  {
   "cell_type": "code",
   "execution_count": null,
   "id": "db6bfd91",
   "metadata": {},
   "outputs": [],
   "source": []
  }
 ],
 "metadata": {
  "kernelspec": {
   "display_name": "Python 3",
   "language": "python",
   "name": "python3"
  },
  "language_info": {
   "codemirror_mode": {
    "name": "ipython",
    "version": 3
   },
   "file_extension": ".py",
   "mimetype": "text/x-python",
   "name": "python",
   "nbconvert_exporter": "python",
   "pygments_lexer": "ipython3",
   "version": "3.11.0"
  }
 },
 "nbformat": 4,
 "nbformat_minor": 5
}
