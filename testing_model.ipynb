{
 "cells": [
  {
   "cell_type": "code",
   "execution_count": 31,
   "id": "657df18e",
   "metadata": {},
   "outputs": [],
   "source": [
    "from ultralytics import YOLO"
   ]
  },
  {
   "cell_type": "code",
   "execution_count": 32,
   "id": "622340a7",
   "metadata": {},
   "outputs": [],
   "source": [
    "model = YOLO(rf'C:\\Users\\Welcome\\phases_detection\\yolo_averaged_model.pt')"
   ]
  },
  {
   "cell_type": "code",
   "execution_count": 36,
   "id": "705e8853",
   "metadata": {},
   "outputs": [
    {
     "name": "stdout",
     "output_type": "stream",
     "text": [
      "Ultralytics 8.3.100  Python-3.11.0 torch-2.1.0+cu118 CUDA:0 (NVIDIA GeForce RTX 3090, 24576MiB)\n"
     ]
    },
    {
     "name": "stderr",
     "output_type": "stream",
     "text": [
      "\u001b[34m\u001b[1mval: \u001b[0mScanning C:\\Users\\Welcome\\phases_detection\\fine_tuning\\labels\\test.cache... 888 images, 714 backgrounds, 0 corrupt: 100%|██████████| 888/888 [00:00<?, ?it/s]\n",
      "                 Class     Images  Instances      Box(P          R      mAP50  mAP50-95): 100%|██████████| 56/56 [00:07<00:00,  7.66it/s]\n"
     ]
    },
    {
     "name": "stdout",
     "output_type": "stream",
     "text": [
      "                   all        888        174      0.852      0.299      0.584      0.434\n",
      "Speed: 0.4ms preprocess, 6.8ms inference, 0.0ms loss, 0.2ms postprocess per image\n",
      "Saving runs\\detect\\val3\\predictions.json...\n",
      "Results saved to \u001b[1mruns\\detect\\val3\u001b[0m\n"
     ]
    }
   ],
   "source": [
    "test = model.val(data=\"C:/Users/Welcome/phases_detection/fine_tuning/data.yaml\",split=\"test\",save_conf=True,save_json=True,conf=0.80)"
   ]
  },
  {
   "cell_type": "code",
   "execution_count": null,
   "id": "ccae9749",
   "metadata": {},
   "outputs": [
    {
     "name": "stdout",
     "output_type": "stream",
     "text": [
      "Precision: 0.6454\n",
      "Recall: 0.5172\n",
      "mAP@0.5: 0.5866\n",
      "mAP@0.5:0.95: 0.4050\n"
     ]
    }
   ],
   "source": [
    "metrics = test.results_dict\n",
    "\n",
    "precision = metrics['metrics/precision(B)']\n",
    "recall = metrics['metrics/recall(B)']\n",
    "map50 = metrics['metrics/mAP50(B)']\n",
    "map50_95 = metrics['metrics/mAP50-95(B)']\n",
    "\n",
    "print(f\"Precision: {precision:.4f}\")\n",
    "print(f\"Recall: {recall:.4f}\")\n",
    "print(f\"mAP@0.5: {map50:.4f}\")\n",
    "print(f\"mAP@0.5:0.95: {map50_95:.4f}\")"
   ]
  },
  {
   "cell_type": "code",
   "execution_count": 46,
   "id": "d4be2fc2",
   "metadata": {},
   "outputs": [],
   "source": [
    "test.confusion_matrix.plot(save_dir=test.save_dir)"
   ]
  },
  {
   "cell_type": "code",
   "execution_count": null,
   "id": "2017c490",
   "metadata": {},
   "outputs": [],
   "source": [
    "import matplotlib.pyplot as plt\n",
    "test.confusion_matrix.plot()\n",
    "plt.show()"
   ]
  },
  {
   "cell_type": "code",
   "execution_count": null,
   "id": "8455c5c5",
   "metadata": {},
   "outputs": [
    {
     "name": "stdout",
     "output_type": "stream",
     "text": [
      "[[         98          71]\n",
      " [         76           0]]\n"
     ]
    }
   ],
   "source": [
    "matrix = test.confusion_matrix.matrix  # this is a NumPy array\n",
    "print(matrix)"
   ]
  },
  {
   "cell_type": "code",
   "execution_count": null,
   "id": "db6bfd91",
   "metadata": {},
   "outputs": [],
   "source": []
  }
 ],
 "metadata": {
  "kernelspec": {
   "display_name": "Python 3",
   "language": "python",
   "name": "python3"
  },
  "language_info": {
   "codemirror_mode": {
    "name": "ipython",
    "version": 3
   },
   "file_extension": ".py",
   "mimetype": "text/x-python",
   "name": "python",
   "nbconvert_exporter": "python",
   "pygments_lexer": "ipython3",
   "version": "3.11.0"
  }
 },
 "nbformat": 4,
 "nbformat_minor": 5
}
